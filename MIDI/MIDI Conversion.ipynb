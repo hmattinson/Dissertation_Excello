{
 "cells": [
  {
   "cell_type": "markdown",
   "metadata": {},
   "source": [
    "# Implementation"
   ]
  },
  {
   "cell_type": "code",
   "execution_count": 175,
   "metadata": {},
   "outputs": [],
   "source": [
    "import mido\n",
    "import csv\n",
    "import audiolazy\n",
    "import os\n",
    "import time\n",
    "import tqdm"
   ]
  },
  {
   "cell_type": "code",
   "execution_count": 178,
   "metadata": {},
   "outputs": [],
   "source": [
    "def cprint(s,b):\n",
    "    if b:\n",
    "        print(s)"
   ]
  },
  {
   "cell_type": "code",
   "execution_count": 273,
   "metadata": {},
   "outputs": [],
   "source": [
    "def get_active_notes(mid):\n",
    "    active_notes = {}\n",
    "    tracks = mid.tracks\n",
    "    num_tracks = len(tracks)\n",
    "    all_notes = num_tracks * [None]\n",
    "    for i in range(0, num_tracks):\n",
    "        track = tracks[i]\n",
    "        time = 0\n",
    "        all_notes[i] = []\n",
    "        for msg in track:\n",
    "            msg_dict = msg.dict()\n",
    "            time += msg_dict['time']\n",
    "            if msg.type == 'note_on' or msg.type == 'note_off':\n",
    "                vel = msg_dict['velocity']\n",
    "                if vel > 0 and msg.type == 'note_on':\n",
    "                    # Using a list for the active notes becuase note 71 in io.mid was definied twice at once\n",
    "                    if active_notes.has_key(msg_dict['note']):\n",
    "                        active_notes[msg_dict['note']].append({'time':time,'velocity':vel})\n",
    "                    else:\n",
    "                        active_notes[msg_dict['note']] = [{'time':time, 'velocity': vel}]\n",
    "                elif vel == 0 or msg.type == 'note_off':\n",
    "                    note = msg_dict['note']\n",
    "                    if len(active_notes[note])>0:\n",
    "                        start_msg = active_notes[note].pop()\n",
    "                        new_note = {'note': note, 'start': start_msg['time'],\n",
    "                                    'end': time, 'velocity': start_msg['velocity']}\n",
    "                        all_notes[i].append(new_note)\n",
    "    return all_notes"
   ]
  },
  {
   "cell_type": "code",
   "execution_count": 44,
   "metadata": {},
   "outputs": [],
   "source": [
    "def create_streams(all_notes):\n",
    "    streams = []\n",
    "    for notes in all_notes:\n",
    "        while notes != []:\n",
    "            stream = []\n",
    "            vel = 0\n",
    "            current_end = 0\n",
    "            for note in notes:\n",
    "                if note['start'] >= current_end:\n",
    "                    if note['velocity'] != vel:\n",
    "                        vel = note['velocity']\n",
    "                    else:\n",
    "                        del note['velocity']\n",
    "                    stream.append(note)\n",
    "                    current_end = note['end']\n",
    "            streams.append(stream)\n",
    "            for note in stream:\n",
    "                notes.remove(note)\n",
    "    return streams"
   ]
  },
  {
   "cell_type": "code",
   "execution_count": 484,
   "metadata": {},
   "outputs": [],
   "source": [
    "def streams_to_cells(streams, speed, printing):\n",
    "    max_time = int(max([x['end'] for x in [item for sublist in streams for item in sublist]]))+1\n",
    "    start_cells = 'A2:A' + str(1+len(streams))\n",
    "    instructions = 'r m' + str(max_time-1)\n",
    "    turtles = [['!turtle(' + start_cells + ', ' + instructions + ', ' + str(speed) + ', 1)']]\n",
    "    for stream in streams:\n",
    "        cells = [\"\"] * max_time\n",
    "        for note in stream:\n",
    "            start = int(note['start'])\n",
    "            cells[start] = audiolazy.midi2str(note['note'])\n",
    "            if note.has_key('velocity'):\n",
    "                cells[start] += (' ' + str(round(float(note['velocity'])/127,2)))\n",
    "            for rest_duration in range(1,int(note['length'])):\n",
    "                cells[start+rest_duration] = '-'\n",
    "        turtles.append(cells)\n",
    "    cprint(str(len(turtles)) + ' x ' + str(max([len(stream) for stream in turtles])), printing)\n",
    "    return turtles"
   ]
  },
  {
   "cell_type": "code",
   "execution_count": 485,
   "metadata": {},
   "outputs": [],
   "source": [
    "def midi_to_excello(file_name, method=1, logging=False, printing=True):\n",
    "    # Fetch MIDI file\n",
    "    mid = mido.MidiFile(file_name) \n",
    "    tempo = [m.dict()['tempo'] for m in mid.tracks[0] if m.dict().has_key('tempo')][0]\n",
    "    ticks_per_beat = mid.ticks_per_beat\n",
    "    # Extract the notes from as onset, note, offset, volume from messages\n",
    "    all_notes = get_active_notes(mid)\n",
    "    # Split into the streams as played by individual turtles\n",
    "    streams = create_streams(all_notes)\n",
    "    all_notes = [item for sublist in streams for item in sublist]\n",
    "    cprint('Number of turtles: ' + str(len(streams)), printing)\n",
    "    \n",
    "    # No Compression\n",
    "    if method == 0:\n",
    "        cprint(\"No Compression\", printing)\n",
    "        difference_stat = 1\n",
    "        ratio_int = 1\n",
    "        for stream in streams:\n",
    "            for note in stream:\n",
    "                note['length'] = note['end'] - note['start']\n",
    "    #Compression\n",
    "    else:\n",
    "        differences = [(y['start']-x['start']) for x, y in zip(all_notes[:-1], all_notes[1:])]\n",
    "        lengths = [(x['end'] - x['start']) for x in [item for sublist in streams for item in sublist]]\n",
    "        # Mins\n",
    "        if method == 1:\n",
    "            cprint(\"Min Compression\", printing)\n",
    "            difference_stat = min([x for x in differences if x > 1])\n",
    "            length_stat = min([x for x in lengths if x > 1])\n",
    "        # Modes \n",
    "        elif method == 2:\n",
    "            cprint(\"Mode Compression\", printing)\n",
    "            difference_stat = max(set(differences), key=differences.count)\n",
    "            length_stat = max(set(lengths), key=lengths.count)\n",
    "\n",
    "        cprint('note difference stat: ' + str(difference_stat), printing)\n",
    "        cprint('note length stat: ' + str(length_stat), printing)\n",
    "\n",
    "        mode_ratio = (float(max(difference_stat, length_stat)) / min(difference_stat, length_stat))\n",
    "        cprint('mode ratio: ' + str(mode_ratio), printing)\n",
    "        ratio_int = int(mode_ratio)\n",
    "        cprint('integer ratio: ' + str(ratio_int), printing)\n",
    "#         ratio_correction = mode_ratio/ratio_int\n",
    "#         cprint('ratio correction: ' + str(ratio_correction), printing)\n",
    "    \n",
    "        # Convert MIDI times to cell times\n",
    "        rounding_base = 0.1\n",
    "        for stream in streams:\n",
    "            for note in stream:\n",
    "                note['length'] = ((float(note['end']) - note['start'])/length_stat) \n",
    "                note['length'] = rounding_base * round(note['length']/rounding_base)\n",
    "                note['start'] = round(rounding_base * round((float(note['start'])/difference_stat*ratio_int)/rounding_base))\n",
    "                note['end'] = note['start'] + note['length']\n",
    "            \n",
    "    speed = int(round((float(60*10**6)/tempo) * ticks_per_beat * (float(ratio_int)/difference_stat)))\n",
    "    cprint(speed, printing)\n",
    "            \n",
    "    csv_name = file_name[::-1].replace('/','_',file_name.count('/')-2)[::-1]\n",
    "    csv_name = csv_name.replace('/midi','/csv/' + str(method)).replace('.mid','.csv')\n",
    "    with open(csv_name, \"wb\") as f:\n",
    "        writer = csv.writer(f)\n",
    "        writer.writerows(streams_to_cells(streams, speed, printing))\n",
    "    cprint(\"Written to \" + csv_name, printing)\n",
    "    \n",
    "    if logging:\n",
    "        cprint([csv_name, len(streams), int(max([x['end'] for x in [item for sublist in streams for item in sublist]]))], printing)\n",
    "        return [csv_name, len(streams), int(max([x['end'] for x in [item for sublist in streams for item in sublist]]))]"
   ]
  },
  {
   "cell_type": "markdown",
   "metadata": {},
   "source": [
    "# Converting"
   ]
  },
  {
   "cell_type": "markdown",
   "metadata": {},
   "source": [
    "0: No Compression<br>\n",
    "1: Compression using Minimum difference<br>\n",
    "2: Compression using Modal difference"
   ]
  },
  {
   "cell_type": "code",
   "execution_count": 486,
   "metadata": {},
   "outputs": [
    {
     "name": "stdout",
     "output_type": "stream",
     "text": [
      "Number of turtles: 8\n",
      "Mode Compression\n",
      "note difference stat: 240\n",
      "note length stat: 240\n",
      "mode ratio: 1.0\n",
      "integer ratio: 1\n",
      "261\n",
      "9 x 341\n",
      "Written to piano-midi/csv/2/burgm_burg_sylphen.csv\n"
     ]
    }
   ],
   "source": [
    "midi_to_excello('piano-midi/midi/burgm/burg_sylphen.mid', 2)"
   ]
  },
  {
   "cell_type": "markdown",
   "metadata": {},
   "source": [
    "# Corpus Conversion"
   ]
  },
  {
   "cell_type": "code",
   "execution_count": 462,
   "metadata": {},
   "outputs": [],
   "source": [
    "datasets = ['bach', 'piano-midi', 'bach_chorales']"
   ]
  },
  {
   "cell_type": "code",
   "execution_count": 489,
   "metadata": {},
   "outputs": [],
   "source": [
    "def convert_corpus(corpus, method):\n",
    "    midi_files = corpus + '/midi'\n",
    "    files = []\n",
    "    for r, _, f in os.walk(midi_files):\n",
    "        for file in f:\n",
    "            if '.mid' in file:\n",
    "                files.append(os.path.join(r, file))\n",
    "                \n",
    "    if midi_files == 'bach/midi':\n",
    "        files.remove('bach/midi/suites/airgstr4.mid')\n",
    "        files = [ x for x in files if \"wtcbki/\" not in x ]\n",
    "    \n",
    "    log = []\n",
    "    for f in files:\n",
    "        log.append(midi_to_excello(f, method, logging=True, printing=False)) # This also writes the file to disk. \n",
    "    log.sort(key=lambda x: x[2], reverse=False)\n",
    "    \n",
    "    with open(midi_files.replace('/midi','/csv') + '/' + 'log' + str(method) + '.txt', mode=\"w\") as outfile:\n",
    "        outfile.write('%s\\n'% len(log))\n",
    "        for s in log:\n",
    "            outfile.write(\"%s\\n\" % s)"
   ]
  },
  {
   "cell_type": "code",
   "execution_count": 490,
   "metadata": {
    "scrolled": true
   },
   "outputs": [
    {
     "name": "stdout",
     "output_type": "stream",
     "text": [
      "('bach_chorales', 0)\n",
      "('bach_chorales', 1)\n",
      "('bach_chorales', 2)\n"
     ]
    }
   ],
   "source": [
    "for corpus in datasets:\n",
    "    for method in [0,1,2]:\n",
    "        print(corpus, method)\n",
    "        convert_corpus(corpus, method)"
   ]
  },
  {
   "cell_type": "markdown",
   "metadata": {},
   "source": [
    "# Timing"
   ]
  },
  {
   "cell_type": "code",
   "execution_count": 377,
   "metadata": {},
   "outputs": [
    {
     "name": "stdout",
     "output_type": "stream",
     "text": [
      "Timer unit: 1e-06 s\n",
      "\n",
      "Total time: 9.9456 s\n",
      "File: <ipython-input-377-c69a7da384be>\n",
      "Function: do_stuff at line 4\n",
      "\n",
      "Line #      Hits         Time  Per Hit   % Time  Line Contents\n",
      "==============================================================\n",
      "     4                                           def do_stuff(filename, method, logging, printing):\n",
      "     5                                               # Fetch MIDI file\n",
      "     6         1    2520249.0 2520249.0     25.3      mid = mido.MidiFile(file_name) \n",
      "     7       212        768.0      3.6      0.0      tempo = [m.dict()['tempo'] for m in mid.tracks[0] if m.dict().has_key('tempo')][0]\n",
      "     8         1          1.0      1.0      0.0      ticks_per_beat = mid.ticks_per_beat\n",
      "     9                                               # Extract the notes from as onset, note, offset, volume from messages\n",
      "    10         1     267210.0 267210.0      2.7      all_notes = get_active_notes(mid)\n",
      "    11                                               # Split into the streams as played by individual turtles\n",
      "    12         1     241991.0 241991.0      2.4      streams = create_streams(all_notes)\n",
      "    13     24221      34324.0      1.4      0.3      all_notes = [item for sublist in streams for item in sublist]\n",
      "    14         1         10.0     10.0      0.0      cprint('Number of turtles: ' + str(len(streams)), printing)\n",
      "    15                                               \n",
      "    16                                               # No Compression\n",
      "    17         1          1.0      1.0      0.0      if method == 0:\n",
      "    18                                                   cprint(\"No Compression\", printing)\n",
      "    19                                                   difference_stat = 1\n",
      "    20                                                   ratio_int = 1\n",
      "    21                                                   for stream in streams:\n",
      "    22                                                       for note in stream:\n",
      "    23                                                           note['length'] = note['end'] - note['start']\n",
      "    24                                               #Compression\n",
      "    25                                               else:\n",
      "    26     24208     129998.0      5.4      1.3          differences = [(y['start']-x['start']) for x, y in zip(all_notes[:-1], all_notes[1:])]\n",
      "    27     48429      64324.0      1.3      0.6          lengths = [(x['end'] - x['start']) for x in [item for sublist in streams for item in sublist]]\n",
      "    28                                                   # Mins\n",
      "    29         1          2.0      2.0      0.0          if method == 1:\n",
      "    30         1          6.0      6.0      0.0              cprint(\"Min Compression\", printing)\n",
      "    31     24208      31596.0      1.3      0.3              difference_stat = min([x for x in differences if x > 1])\n",
      "    32     24209      31317.0      1.3      0.3              length_stat = min([x for x in lengths if x > 1])\n",
      "    33                                                   # Modes \n",
      "    34                                                   elif method == 2:\n",
      "    35                                                       cprint(\"Mode Compression\", printing)\n",
      "    36                                                       difference_stat = max(set(differences), key=differences.count)\n",
      "    37                                                       length_stat = max(set(lengths), key=lengths.count)\n",
      "    38                                           \n",
      "    39         1          8.0      8.0      0.0          cprint('note difference stat: ' + str(difference_stat), printing)\n",
      "    40         1          2.0      2.0      0.0          cprint('note length stat: ' + str(length_stat), printing)\n",
      "    41                                           \n",
      "    42         1          5.0      5.0      0.0          mode_ratio = (float(max(difference_stat, length_stat)) / min(difference_stat, length_stat))\n",
      "    43         1          5.0      5.0      0.0          cprint('mode ratio: ' + str(mode_ratio), printing)\n",
      "    44         1          2.0      2.0      0.0          ratio_int = int(mode_ratio)\n",
      "    45         1          2.0      2.0      0.0          cprint('integer ratio: ' + str(ratio_int), printing)\n",
      "    46                                           #         ratio_correction = mode_ratio/ratio_int\n",
      "    47                                           #         cprint('ratio correction: ' + str(ratio_correction), printing)\n",
      "    48                                               \n",
      "    49                                                   # Convert MIDI times to cell times\n",
      "    50         1          1.0      1.0      0.0          rounding_base = 0.1\n",
      "    51        13         17.0      1.3      0.0          for stream in streams:\n",
      "    52     24220      28152.0      1.2      0.3              for note in stream:\n",
      "    53     24208      42437.0      1.8      0.4                  note['length'] = ((float(note['end']) - note['start'])/length_stat) \n",
      "    54     24208      38785.0      1.6      0.4                  note['length'] = rounding_base * round(note['length']/rounding_base)\n",
      "    55     24208      50166.0      2.1      0.5                  note['start'] = round(rounding_base * round((float(note['start'])/difference_stat*ratio_int)/rounding_base))\n",
      "    56     24208      34597.0      1.4      0.3                  note['end'] = note['start'] + note['length']\n",
      "    57                                                       \n",
      "    58         1          3.0      3.0      0.0      speed = int(round((float(60*10**6)/tempo) * ticks_per_beat * (float(ratio_int)/difference_stat)))\n",
      "    59         1          5.0      5.0      0.0      cprint(speed, printing)\n",
      "    60                                                       \n",
      "    61         1          7.0      7.0      0.0      csv_name = file_name.replace('midi','csv').replace('.mid','.csv')\n",
      "    62         1          7.0      7.0      0.0      csv_name = csv_name[::-1].replace('/','_',csv_name.count('/')-2)[::-1]\n",
      "    63         1       1137.0   1137.0      0.0      with open(csv_name, \"wb\") as f:\n",
      "    64         1         12.0     12.0      0.0          writer = csv.writer(f)\n",
      "    65     48429      64001.0      1.3      0.6          max_time = int(max([x['end'] for x in [item for sublist in streams for item in sublist]]))\n",
      "    66         1          7.0      7.0      0.0          start_cells = 'A2:A' + str(1+len(streams))\n",
      "    67         1          2.0      2.0      0.0          instructions = 'r m' + str(max_time-1)\n",
      "    68         1          4.0      4.0      0.0          turtles = [['!turtle(' + start_cells + ', ' + instructions + ', ' + str(speed) + ', 1)']]\n",
      "    69        13        113.0      8.7      0.0          for stream in streams:\n",
      "    70        12      38036.0   3169.7      0.4              cells = [\"\"] * max_time\n",
      "    71     24220      47321.0      2.0      0.5              for note in stream:\n",
      "    72     24208      71916.0      3.0      0.7                  start = int(note['start'])\n",
      "    73     24208    1572725.0     65.0     15.8                  cells[start] = audiolazy.midi2str(note['note'])\n",
      "    74     24208      62708.0      2.6      0.6                  if note.has_key('velocity'):\n",
      "    75     20868     184194.0      8.8      1.9                      cells[start] += (' ' + str(round(float(note['velocity'])/127,2)))\n",
      "    76   1234218    2064948.0      1.7     20.8                  for rest_duration in range(1,int(note['length'])):\n",
      "    77   1210010    2137241.0      1.8     21.5                      cells[start+rest_duration] = '-'\n",
      "    78        12         52.0      4.3      0.0              turtles.append(cells)\n",
      "    79        14         26.0      1.9      0.0          cprint(str(len(turtles)) + ' x ' + str(max([len(stream) for stream in turtles])), printing)\n",
      "    80         1     185152.0 185152.0      1.9          writer.writerows(turtles)\n",
      "    81         1          9.0      9.0      0.0      cprint(\"Written to \" + csv_name, printing)\n",
      "\n"
     ]
    }
   ],
   "source": [
    "from line_profiler import LineProfiler\n",
    "import random\n",
    "\n",
    "def do_stuff(filename, method, logging, printing):\n",
    "    # Fetch MIDI file\n",
    "    mid = mido.MidiFile(file_name) \n",
    "    tempo = [m.dict()['tempo'] for m in mid.tracks[0] if m.dict().has_key('tempo')][0]\n",
    "    ticks_per_beat = mid.ticks_per_beat\n",
    "    # Extract the notes from as onset, note, offset, volume from messages\n",
    "    all_notes = get_active_notes(mid)\n",
    "    # Split into the streams as played by individual turtles\n",
    "    streams = create_streams(all_notes)\n",
    "    all_notes = [item for sublist in streams for item in sublist]\n",
    "    cprint('Number of turtles: ' + str(len(streams)), printing)\n",
    "    \n",
    "    # No Compression\n",
    "    if method == 0:\n",
    "        cprint(\"No Compression\", printing)\n",
    "        difference_stat = 1\n",
    "        ratio_int = 1\n",
    "        for stream in streams:\n",
    "            for note in stream:\n",
    "                note['length'] = note['end'] - note['start']\n",
    "    #Compression\n",
    "    else:\n",
    "        differences = [(y['start']-x['start']) for x, y in zip(all_notes[:-1], all_notes[1:])]\n",
    "        lengths = [(x['end'] - x['start']) for x in [item for sublist in streams for item in sublist]]\n",
    "        # Mins\n",
    "        if method == 1:\n",
    "            cprint(\"Min Compression\", printing)\n",
    "            difference_stat = min([x for x in differences if x > 1])\n",
    "            length_stat = min([x for x in lengths if x > 1])\n",
    "        # Modes \n",
    "        elif method == 2:\n",
    "            cprint(\"Mode Compression\", printing)\n",
    "            difference_stat = max(set(differences), key=differences.count)\n",
    "            length_stat = max(set(lengths), key=lengths.count)\n",
    "\n",
    "        cprint('note difference stat: ' + str(difference_stat), printing)\n",
    "        cprint('note length stat: ' + str(length_stat), printing)\n",
    "\n",
    "        mode_ratio = (float(max(difference_stat, length_stat)) / min(difference_stat, length_stat))\n",
    "        cprint('mode ratio: ' + str(mode_ratio), printing)\n",
    "        ratio_int = int(mode_ratio)\n",
    "        cprint('integer ratio: ' + str(ratio_int), printing)\n",
    "#         ratio_correction = mode_ratio/ratio_int\n",
    "#         cprint('ratio correction: ' + str(ratio_correction), printing)\n",
    "    \n",
    "        # Convert MIDI times to cell times\n",
    "        rounding_base = 0.1\n",
    "        for stream in streams:\n",
    "            for note in stream:\n",
    "                note['length'] = ((float(note['end']) - note['start'])/length_stat) \n",
    "                note['length'] = rounding_base * round(note['length']/rounding_base)\n",
    "                note['start'] = round(rounding_base * round((float(note['start'])/difference_stat*ratio_int)/rounding_base))\n",
    "                note['end'] = note['start'] + note['length']\n",
    "            \n",
    "    speed = int(round((float(60*10**6)/tempo) * ticks_per_beat * (float(ratio_int)/difference_stat)))\n",
    "    cprint(speed, printing)\n",
    "            \n",
    "    csv_name = file_name.replace('midi','csv').replace('.mid','.csv')\n",
    "    csv_name = csv_name[::-1].replace('/','_',csv_name.count('/')-2)[::-1]\n",
    "    with open(csv_name, \"wb\") as f:\n",
    "        writer = csv.writer(f)\n",
    "        max_time = int(max([x['end'] for x in [item for sublist in streams for item in sublist]]))\n",
    "        start_cells = 'A2:A' + str(1+len(streams))\n",
    "        instructions = 'r m' + str(max_time-1)\n",
    "        turtles = [['!turtle(' + start_cells + ', ' + instructions + ', ' + str(speed) + ', 1)']]\n",
    "        for stream in streams:\n",
    "            cells = [\"\"] * max_time\n",
    "            for note in stream:\n",
    "                start = int(note['start'])\n",
    "                cells[start] = audiolazy.midi2str(note['note'])\n",
    "                if note.has_key('velocity'):\n",
    "                    cells[start] += (' ' + str(round(float(note['velocity'])/127,2)))\n",
    "                for rest_duration in range(1,int(note['length'])):\n",
    "                    cells[start+rest_duration] = '-'\n",
    "            turtles.append(cells)\n",
    "        cprint(str(len(turtles)) + ' x ' + str(max([len(stream) for stream in turtles])), printing)\n",
    "        writer.writerows(turtles)\n",
    "    cprint(\"Written to \" + csv_name, printing)\n",
    "\n",
    "lp = LineProfiler()\n",
    "lp_wrapper = lp(do_stuff)\n",
    "lp_wrapper('musescore/midi/deb_clai.mid', 1, False, False)\n",
    "lp.print_stats()"
   ]
  },
  {
   "cell_type": "markdown",
   "metadata": {},
   "source": [
    "## Playback"
   ]
  },
  {
   "cell_type": "code",
   "execution_count": 2,
   "metadata": {},
   "outputs": [],
   "source": [
    "def play_music(music_file):\n",
    "    \"\"\"\n",
    "    stream music with mixer.music module in blocking manner\n",
    "    this will stream the sound from disk while playing\n",
    "    \"\"\"\n",
    "    clock = pygame.time.Clock()\n",
    "    try:\n",
    "        pygame.mixer.music.load(music_file)\n",
    "        print \"Music file %s loaded!\" % music_file\n",
    "    except pygame.error:\n",
    "        print \"File %s not found! (%s)\" % (music_file, pygame.get_error())\n",
    "        return\n",
    "    pygame.mixer.music.play()\n",
    "    while pygame.mixer.music.get_busy():\n",
    "        # check if playback has finished\n",
    "        clock.tick(30)\n",
    "# pick a midi music file you have ...\n",
    "# (if not in working folder use full path)\n",
    "\n",
    "freq = 44100    # audio CD quality\n",
    "bitsize = -16   # unsigned 16 bit\n",
    "channels = 2    # 1 is mono, 2 is stereo\n",
    "buffer = 1024    # number of samples\n",
    "pygame.mixer.init(freq, bitsize, channels, buffer)"
   ]
  },
  {
   "cell_type": "code",
   "execution_count": 5,
   "metadata": {},
   "outputs": [
    {
     "name": "stdout",
     "output_type": "stream",
     "text": [
      "Music file bach_850.mid loaded!\n"
     ]
    },
    {
     "ename": "KeyboardInterrupt",
     "evalue": "",
     "output_type": "error",
     "traceback": [
      "\u001b[0;31m---------------------------------------------------------------------------\u001b[0m",
      "\u001b[0;31mKeyboardInterrupt\u001b[0m                         Traceback (most recent call last)",
      "\u001b[0;32m<ipython-input-5-a8c69e221f94>\u001b[0m in \u001b[0;36m<module>\u001b[0;34m()\u001b[0m\n\u001b[0;32m----> 1\u001b[0;31m \u001b[0mplay_music\u001b[0m\u001b[0;34m(\u001b[0m\u001b[0mfile_name\u001b[0m\u001b[0;34m)\u001b[0m\u001b[0;34m\u001b[0m\u001b[0m\n\u001b[0m",
      "\u001b[0;32m<ipython-input-2-81ce79f6a1fb>\u001b[0m in \u001b[0;36mplay_music\u001b[0;34m(music_file)\u001b[0m\n\u001b[1;32m     14\u001b[0m     \u001b[0;32mwhile\u001b[0m \u001b[0mpygame\u001b[0m\u001b[0;34m.\u001b[0m\u001b[0mmixer\u001b[0m\u001b[0;34m.\u001b[0m\u001b[0mmusic\u001b[0m\u001b[0;34m.\u001b[0m\u001b[0mget_busy\u001b[0m\u001b[0;34m(\u001b[0m\u001b[0;34m)\u001b[0m\u001b[0;34m:\u001b[0m\u001b[0;34m\u001b[0m\u001b[0m\n\u001b[1;32m     15\u001b[0m         \u001b[0;31m# check if playback has finished\u001b[0m\u001b[0;34m\u001b[0m\u001b[0;34m\u001b[0m\u001b[0m\n\u001b[0;32m---> 16\u001b[0;31m         \u001b[0mclock\u001b[0m\u001b[0;34m.\u001b[0m\u001b[0mtick\u001b[0m\u001b[0;34m(\u001b[0m\u001b[0;36m30\u001b[0m\u001b[0;34m)\u001b[0m\u001b[0;34m\u001b[0m\u001b[0m\n\u001b[0m\u001b[1;32m     17\u001b[0m \u001b[0;31m# pick a midi music file you have ...\u001b[0m\u001b[0;34m\u001b[0m\u001b[0;34m\u001b[0m\u001b[0m\n\u001b[1;32m     18\u001b[0m \u001b[0;31m# (if not in working folder use full path)\u001b[0m\u001b[0;34m\u001b[0m\u001b[0;34m\u001b[0m\u001b[0m\n",
      "\u001b[0;31mKeyboardInterrupt\u001b[0m: "
     ]
    }
   ],
   "source": [
    "play_music(file_name)"
   ]
  },
  {
   "cell_type": "markdown",
   "metadata": {},
   "source": [
    "# Other Shit"
   ]
  },
  {
   "cell_type": "code",
   "execution_count": 530,
   "metadata": {},
   "outputs": [],
   "source": [
    "data = '''0\t0\t0\t1\t1\t5\t12\n",
    "0\t0\t0\t0\t1\t4\t14\n",
    "0\t0\t0\t0\t1\t5\t13'''.split('\\n')\n",
    "data = list(map(lambda x : x.split('\\t'), data))"
   ]
  },
  {
   "cell_type": "code",
   "execution_count": 531,
   "metadata": {},
   "outputs": [
    {
     "name": "stdout",
     "output_type": "stream",
     "text": [
      "\\addplot[style={bblue,fill=bblue,mark=none}]\n",
      "\tcoordinates {(-3,0) (-2,0) (-1,0) (0,1) (1,1) (2,5) (3,12) };\n",
      "\\addplot[style={rred,fill=rred,mark=none}]\n",
      "\tcoordinates {(-3,0) (-2,0) (-1,0) (0,0) (1,1) (2,4) (3,14) };\n",
      "\\addplot[style={ggreen,fill=ggreen,mark=none}]\n",
      "\tcoordinates {(-3,0) (-2,0) (-1,0) (0,0) (1,1) (2,5) (3,13) };\n"
     ]
    }
   ],
   "source": [
    "agreements = ['Strongly Disagree', 'Disagree', 'Slightly Disagree', 'Neutral', 'Slightly Agree', 'Agree', 'Strongly Agree']\n",
    "colors = ['bblue','rred','ggreen','ppurple','yyellow']\n",
    "for j in range(len(data)):\n",
    "    question = data[j]\n",
    "    print('\\\\addplot[style={' + colors[j] + ',fill=' + colors[j] + ',mark=none}]')\n",
    "    s = \"\\tcoordinates {\"\n",
    "    for i in range(0, len(question)):\n",
    "        s = s + \"(\" + str(i-3) + \",\" + str(question[i]) + \") \"\n",
    "    s = s + '};'\n",
    "    print(s)"
   ]
  },
  {
   "cell_type": "code",
   "execution_count": null,
   "metadata": {},
   "outputs": [],
   "source": []
  }
 ],
 "metadata": {
  "kernelspec": {
   "display_name": "Python [conda root]",
   "language": "python",
   "name": "conda-root-py"
  },
  "language_info": {
   "codemirror_mode": {
    "name": "ipython",
    "version": 2
   },
   "file_extension": ".py",
   "mimetype": "text/x-python",
   "name": "python",
   "nbconvert_exporter": "python",
   "pygments_lexer": "ipython2",
   "version": "2.7.15"
  }
 },
 "nbformat": 4,
 "nbformat_minor": 2
}
