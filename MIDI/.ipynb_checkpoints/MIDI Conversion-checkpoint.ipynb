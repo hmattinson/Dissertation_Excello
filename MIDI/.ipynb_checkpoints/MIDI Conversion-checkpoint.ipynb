{
 "cells": [
  {
   "cell_type": "code",
   "execution_count": 1,
   "metadata": {},
   "outputs": [],
   "source": [
    "import mido"
   ]
  },
  {
   "cell_type": "code",
   "execution_count": 2,
   "metadata": {},
   "outputs": [],
   "source": [
    "mid = mido.MidiFile('up.mid')"
   ]
  },
  {
   "cell_type": "code",
   "execution_count": 8,
   "metadata": {},
   "outputs": [],
   "source": [
    "msg = mid.tracks[0][12]"
   ]
  },
  {
   "cell_type": "code",
   "execution_count": 9,
   "metadata": {},
   "outputs": [
    {
     "data": {
      "text/plain": [
       "<message note_on channel=0 note=77 velocity=80 time=1>"
      ]
     },
     "execution_count": 9,
     "metadata": {},
     "output_type": "execute_result"
    }
   ],
   "source": [
    "msg"
   ]
  },
  {
   "cell_type": "code",
   "execution_count": 11,
   "metadata": {},
   "outputs": [
    {
     "name": "stdout",
     "output_type": "stream",
     "text": [
      "Track 0: \n",
      "time_signature\n",
      "key_signature\n",
      "set_tempo\n",
      "set_tempo\n",
      "set_tempo\n",
      "set_tempo\n",
      "set_tempo\n",
      "set_tempo\n",
      "set_tempo\n",
      "set_tempo\n",
      "set_tempo\n",
      "set_tempo\n",
      "set_tempo\n",
      "set_tempo\n",
      "set_tempo\n",
      "set_tempo\n",
      "set_tempo\n",
      "set_tempo\n",
      "set_tempo\n",
      "set_tempo\n",
      "set_tempo\n",
      "end_of_track\n",
      "Track 1: \n",
      "key_signature\n",
      "end_of_track\n"
     ]
    }
   ],
   "source": [
    "for i, track in enumerate(mid.tracks):\n",
    "    print('Track {}: {}'.format(i, track.name))\n",
    "    for msg in track:\n",
    "        if msg.is_meta:\n",
    "            print(msg.type)"
   ]
  },
  {
   "cell_type": "code",
   "execution_count": null,
   "metadata": {},
   "outputs": [],
   "source": []
  }
 ],
 "metadata": {
  "kernelspec": {
   "display_name": "Python [conda root]",
   "language": "python",
   "name": "conda-root-py"
  },
  "language_info": {
   "codemirror_mode": {
    "name": "ipython",
    "version": 2
   },
   "file_extension": ".py",
   "mimetype": "text/x-python",
   "name": "python",
   "nbconvert_exporter": "python",
   "pygments_lexer": "ipython2",
   "version": "2.7.15"
  }
 },
 "nbformat": 4,
 "nbformat_minor": 2
}
