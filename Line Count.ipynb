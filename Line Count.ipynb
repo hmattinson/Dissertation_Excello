{
 "cells": [
  {
   "cell_type": "code",
   "execution_count": 2,
   "metadata": {},
   "outputs": [],
   "source": [
    "from os import listdir\n",
    "from os.path import isfile, join"
   ]
  },
  {
   "cell_type": "code",
   "execution_count": 40,
   "metadata": {},
   "outputs": [],
   "source": [
    "ts_destinations = ['Excel Music/src','customFunctions/src']"
   ]
  },
  {
   "cell_type": "code",
   "execution_count": 43,
   "metadata": {},
   "outputs": [],
   "source": [
    "files = [[join(directory, f) for f in listdir(directory) if isfile(join(directory, f)) and '.ts' in f] for directory in ts_destinations]\n",
    "files = [item for sublist in files for item in sublist]\n",
    "files.append('MIDI/MIDI_Conversion.py')\n",
    "files.append('customFunctions/config/customFunctions.json')"
   ]
  },
  {
   "cell_type": "code",
   "execution_count": 44,
   "metadata": {},
   "outputs": [
    {
     "data": {
      "text/plain": [
       "['Excel Music/src/chords.ts',\n",
       " 'Excel Music/src/regex.ts',\n",
       " 'Excel Music/src/bracketsParse.ts',\n",
       " 'Excel Music/src/turtles.ts',\n",
       " 'Excel Music/src/conversions.ts',\n",
       " 'Excel Music/src/index.ts',\n",
       " 'customFunctions/src/customfunctions.ts',\n",
       " 'MIDI/MIDI_Conversion.py',\n",
       " 'customFunctions/config/customFunctions.json']"
      ]
     },
     "execution_count": 44,
     "metadata": {},
     "output_type": "execute_result"
    }
   ],
   "source": [
    "files"
   ]
  },
  {
   "cell_type": "code",
   "execution_count": 45,
   "metadata": {},
   "outputs": [
    {
     "data": {
      "text/plain": [
       "1510"
      ]
     },
     "execution_count": 45,
     "metadata": {},
     "output_type": "execute_result"
    }
   ],
   "source": [
    "sum([sum(1 for line in open(f)) for f in files])"
   ]
  },
  {
   "cell_type": "code",
   "execution_count": 46,
   "metadata": {},
   "outputs": [
    {
     "name": "stdout",
     "output_type": "stream",
     "text": [
      "Excel Music/src/chords.ts\n",
      "106\n",
      "Excel Music/src/regex.ts\n",
      "78\n",
      "Excel Music/src/bracketsParse.ts\n",
      "96\n",
      "Excel Music/src/turtles.ts\n",
      "555\n",
      "Excel Music/src/conversions.ts\n",
      "90\n",
      "Excel Music/src/index.ts\n",
      "168\n",
      "customFunctions/src/customfunctions.ts\n",
      "84\n",
      "MIDI/MIDI_Conversion.py\n",
      "244\n",
      "customFunctions/config/customFunctions.json\n",
      "89\n"
     ]
    }
   ],
   "source": [
    "for f in files:\n",
    "    print(f)\n",
    "    print(sum(1 for line in open(f)))"
   ]
  },
  {
   "cell_type": "code",
   "execution_count": null,
   "metadata": {},
   "outputs": [],
   "source": []
  }
 ],
 "metadata": {
  "kernelspec": {
   "display_name": "Python [conda root]",
   "language": "python",
   "name": "conda-root-py"
  },
  "language_info": {
   "codemirror_mode": {
    "name": "ipython",
    "version": 2
   },
   "file_extension": ".py",
   "mimetype": "text/x-python",
   "name": "python",
   "nbconvert_exporter": "python",
   "pygments_lexer": "ipython2",
   "version": "2.7.15"
  }
 },
 "nbformat": 4,
 "nbformat_minor": 2
}
