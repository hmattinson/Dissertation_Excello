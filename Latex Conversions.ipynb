{
 "cells": [
  {
   "cell_type": "markdown",
   "metadata": {},
   "source": [
    "# Feature Evaluation"
   ]
  },
  {
   "cell_type": "code",
   "execution_count": 1,
   "metadata": {
    "collapsed": true
   },
   "outputs": [
    {
     "name": "stdout",
     "output_type": "stream",
     "text": [
      "\\addplot[style={bblue,fill=bblue,mark=none}]\n",
      "\tcoordinates {(-3,1) (-2,1) };\n",
      "\\addplot[style={rred,fill=rred,mark=none}]\n",
      "\tcoordinates {(-3,2) (-2,2) };\n",
      "\\addplot[style={ggreen,fill=ggreen,mark=none}]\n",
      "\tcoordinates {(-3,1) (-2,1) };\n",
      "\\addplot[style={ppurple,fill=ppurple,mark=none}]\n",
      "\tcoordinates {(-3,1) (-2,-2) };\n",
      "\\addplot[style={yyellow,fill=yyellow,mark=none}]\n",
      "\tcoordinates {(-3,1) (-2,1) };\n",
      "\\addplot[style={bbrown,fill=bbrown,mark=none}]\n",
      "\tcoordinates {(-3,1) (-2,2) };\n"
     ]
    },
    {
     "ename": "IndexError",
     "evalue": "list index out of range",
     "output_type": "error",
     "traceback": [
      "\u001b[0;31m---------------------------------------------------------------------------\u001b[0m",
      "\u001b[0;31mIndexError\u001b[0m                                Traceback (most recent call last)",
      "\u001b[0;32m<ipython-input-1-4c6b0173c6bb>\u001b[0m in \u001b[0;36m<module>\u001b[0;34m()\u001b[0m\n\u001b[1;32m      7\u001b[0m \u001b[0;32mfor\u001b[0m \u001b[0mj\u001b[0m \u001b[0;32min\u001b[0m \u001b[0mrange\u001b[0m\u001b[0;34m(\u001b[0m\u001b[0mlen\u001b[0m\u001b[0;34m(\u001b[0m\u001b[0mdata\u001b[0m\u001b[0;34m)\u001b[0m\u001b[0;34m)\u001b[0m\u001b[0;34m:\u001b[0m\u001b[0;34m\u001b[0m\u001b[0m\n\u001b[1;32m      8\u001b[0m     \u001b[0mquestion\u001b[0m \u001b[0;34m=\u001b[0m \u001b[0mdata\u001b[0m\u001b[0;34m[\u001b[0m\u001b[0mj\u001b[0m\u001b[0;34m]\u001b[0m\u001b[0;34m\u001b[0m\u001b[0m\n\u001b[0;32m----> 9\u001b[0;31m     \u001b[0;32mprint\u001b[0m\u001b[0;34m(\u001b[0m\u001b[0;34m'\\\\addplot[style={'\u001b[0m \u001b[0;34m+\u001b[0m \u001b[0mcolors\u001b[0m\u001b[0;34m[\u001b[0m\u001b[0mj\u001b[0m\u001b[0;34m]\u001b[0m \u001b[0;34m+\u001b[0m \u001b[0;34m',fill='\u001b[0m \u001b[0;34m+\u001b[0m \u001b[0mcolors\u001b[0m\u001b[0;34m[\u001b[0m\u001b[0mj\u001b[0m\u001b[0;34m]\u001b[0m \u001b[0;34m+\u001b[0m \u001b[0;34m',mark=none}]'\u001b[0m\u001b[0;34m)\u001b[0m\u001b[0;34m\u001b[0m\u001b[0m\n\u001b[0m\u001b[1;32m     10\u001b[0m     \u001b[0ms\u001b[0m \u001b[0;34m=\u001b[0m \u001b[0;34m\"\\tcoordinates {\"\u001b[0m\u001b[0;34m\u001b[0m\u001b[0m\n\u001b[1;32m     11\u001b[0m     \u001b[0;32mfor\u001b[0m \u001b[0mi\u001b[0m \u001b[0;32min\u001b[0m \u001b[0mrange\u001b[0m\u001b[0;34m(\u001b[0m\u001b[0;36m0\u001b[0m\u001b[0;34m,\u001b[0m \u001b[0mlen\u001b[0m\u001b[0;34m(\u001b[0m\u001b[0mquestion\u001b[0m\u001b[0;34m)\u001b[0m\u001b[0;34m)\u001b[0m\u001b[0;34m:\u001b[0m\u001b[0;34m\u001b[0m\u001b[0m\n",
      "\u001b[0;31mIndexError\u001b[0m: list index out of range"
     ]
    }
   ],
   "source": [
    "data = '''1\t2\t1\t1\t1\t1\t2\t1\t1\t1\t2\t1\n",
    "1\t2\t1\t-2\t1\t2\t2\t2\t2\t1\t2\t2'''\n",
    "data = data.split('\\n')\n",
    "data = list(map(lambda x : x.split('\\t'), data))\n",
    "data = zip(*data)\n",
    "colors = ['bblue','rred','ggreen','ppurple','yyellow','bbrown']\n",
    "for j in range(len(data)):\n",
    "    question = data[j]\n",
    "    print('\\\\addplot[style={' + colors[j] + ',fill=' + colors[j] + ',mark=none}]')\n",
    "    s = \"\\tcoordinates {\"\n",
    "    for i in range(0, len(question)):\n",
    "        s = s + \"(\" + str(i-3) + \",\" + str(question[i]) + \") \"\n",
    "    s = s + '};'\n",
    "    print(s)"
   ]
  },
  {
   "cell_type": "markdown",
   "metadata": {},
   "source": [
    "# Usage"
   ]
  },
  {
   "cell_type": "code",
   "execution_count": 3,
   "metadata": {
    "collapsed": true
   },
   "outputs": [
    {
     "name": "stdout",
     "output_type": "stream",
     "text": [
      "\\addplot+[\n",
      "\tboxplot prepared={\n",
      "\t\tmedian=10,\n",
      "\t\tupper quartile=3.319672131,\n",
      "\t\tlower quartile=10,\n",
      "\t\tupper whisker=30,\n",
      "\t\tlower whisker=0\n",
      "\t},\n",
      "] coordinates {};\n",
      "\\addplot+[\n",
      "\tboxplot prepared={\n",
      "\t\tmedian=50,\n",
      "\t\tupper quartile=45,\n",
      "\t\tlower quartile=65,\n",
      "\t\tupper whisker=100,\n",
      "\t\tlower whisker=8\n",
      "\t},\n",
      "] coordinates {};\n",
      "\\addplot+[\n",
      "\tboxplot prepared={\n",
      "\t\tmedian=10,\n",
      "\t\tupper quartile=5,\n",
      "\t\tlower quartile=15.69672131,\n",
      "\t\tupper whisker=24,\n",
      "\t\tlower whisker=0\n",
      "\t},\n",
      "] coordinates {};\n",
      "\\addplot+[\n",
      "\tboxplot prepared={\n",
      "\t\tmedian=10,\n",
      "\t\tupper quartile=5,\n",
      "\t\tlower quartile=15.69672131,\n",
      "\t\tupper whisker=30,\n",
      "\t\tlower whisker=0\n",
      "\t},\n",
      "] coordinates {};\n",
      "\\addplot+[\n",
      "\tboxplot prepared={\n",
      "\t\tmedian=10,\n",
      "\t\tupper quartile=9,\n",
      "\t\tlower quartile=27,\n",
      "\t\tupper whisker=49,\n",
      "\t\tlower whisker=0\n",
      "\t},\n",
      "] coordinates {};\n"
     ]
    }
   ],
   "source": [
    "data = '''10\t3.319672131\t10\t0\t30\n",
    "50\t45\t65\t8\t100\n",
    "10\t5\t15.69672131\t0\t24\n",
    "10\t5\t15.69672131\t0\t30\n",
    "10\t9\t27\t0\t49'''.split('\\n')\n",
    "data = list(map(lambda x : x.split('\\t'), data))\n",
    "for box_plot in data:\n",
    "    print('\\\\addplot+[')\n",
    "    print('\\tboxplot prepared={')\n",
    "    print('\\t\\tmedian=' + str(box_plot[0]) + ',')\n",
    "    print('\\t\\tupper quartile=' + str(box_plot[1]) + ',')\n",
    "    print('\\t\\tlower quartile=' + str(box_plot[2]) + ',')\n",
    "    print('\\t\\tupper whisker=' + str(box_plot[4]) + ',')\n",
    "    print('\\t\\tlower whisker=' + str(box_plot[3]) + '')\n",
    "    print('\\t},')\n",
    "    print('] coordinates {};')"
   ]
  },
  {
   "cell_type": "markdown",
   "metadata": {},
   "source": [
    "# CDN"
   ]
  },
  {
   "cell_type": "code",
   "execution_count": 5,
   "metadata": {},
   "outputs": [
    {
     "name": "stdout",
     "output_type": "stream",
     "text": [
      "\\addplot[style={excelGreen,fill=excelGreen,mark=none}]\n",
      "\tcoordinates {(1,0) (2,2) (3,1) (4,1) (5,1) (6,2) (7,2) (8,0) (9,1) (10,2) (11,-1) (12,2) };\n",
      "\\addplot[style={sibPurple,fill=sibPurple,mark=none}]\n",
      "\tcoordinates {(1,0) (2,2) (3,-1) (4,2) (5,1) (6,-1) (7,-1) (8,0) (9,2) (10,2) (11,1) (12,0) };\n"
     ]
    }
   ],
   "source": [
    "data = '''0\t2\t1\t1\t1\t2\t2\t0\t1\t2\t-1\t2\n",
    "0\t2\t-1\t2\t1\t-1\t-1\t0\t2\t2\t1\t0'''\n",
    "data = data.split('\\n')\n",
    "data = list(map(lambda x : x.split('\\t'), data))\n",
    "# # agreements = ['Strongly Disagree', 'Disagree', 'Slightly Disagree', 'Neutral', 'Slightly Agree', 'Agree', 'Strongly Agree']\n",
    "# agreements = ['Strongly Disagree', 'Disagree', 'Neutral', 'Agree', 'Strongly Agree']\n",
    "colors = ['excelGreen','sibPurple']\n",
    "for j in range(len(data)):\n",
    "    question = data[j]\n",
    "    print('\\\\addplot[style={' + colors[j] + ',fill=' + colors[j] + ',mark=none}]')\n",
    "    s = \"\\tcoordinates {\"\n",
    "    for i in range(0, len(question)):\n",
    "        s = s + \"(\" + str(i+1) + \",\" + str(question[i]) + \") \"\n",
    "    s = s + '};'\n",
    "    print(s)"
   ]
  },
  {
   "cell_type": "code",
   "execution_count": null,
   "metadata": {},
   "outputs": [],
   "source": []
  }
 ],
 "metadata": {
  "kernelspec": {
   "display_name": "Python [conda root]",
   "language": "python",
   "name": "conda-root-py"
  },
  "language_info": {
   "codemirror_mode": {
    "name": "ipython",
    "version": 2
   },
   "file_extension": ".py",
   "mimetype": "text/x-python",
   "name": "python",
   "nbconvert_exporter": "python",
   "pygments_lexer": "ipython2",
   "version": "2.7.15"
  }
 },
 "nbformat": 4,
 "nbformat_minor": 2
}
